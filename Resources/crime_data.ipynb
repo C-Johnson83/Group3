{
 "cells": [
  {
   "cell_type": "code",
   "execution_count": 4,
   "id": "1d369e56",
   "metadata": {},
   "outputs": [
    {
     "ename": "ModuleNotFoundError",
     "evalue": "No module named 'api_keys'",
     "output_type": "error",
     "traceback": [
      "\u001b[0;31m---------------------------------------------------------------------------\u001b[0m",
      "\u001b[0;31mModuleNotFoundError\u001b[0m                       Traceback (most recent call last)",
      "\u001b[1;32m/Users/danielacastellon/Desktop/Git Repositories/Group3/Resources/crime_data.ipynb Cell 1\u001b[0m in \u001b[0;36m<cell line: 4>\u001b[0;34m()\u001b[0m\n\u001b[1;32m      <a href='vscode-notebook-cell:/Users/danielacastellon/Desktop/Git%20Repositories/Group3/Resources/crime_data.ipynb#W0sZmlsZQ%3D%3D?line=1'>2</a>\u001b[0m \u001b[39mimport\u001b[39;00m \u001b[39mnumpy\u001b[39;00m \u001b[39mas\u001b[39;00m \u001b[39mnp\u001b[39;00m\n\u001b[1;32m      <a href='vscode-notebook-cell:/Users/danielacastellon/Desktop/Git%20Repositories/Group3/Resources/crime_data.ipynb#W0sZmlsZQ%3D%3D?line=2'>3</a>\u001b[0m \u001b[39mimport\u001b[39;00m \u001b[39mmatplotlib\u001b[39;00m\u001b[39m.\u001b[39;00m\u001b[39mpyplot\u001b[39;00m \u001b[39mas\u001b[39;00m \u001b[39mplt\u001b[39;00m\n\u001b[0;32m----> <a href='vscode-notebook-cell:/Users/danielacastellon/Desktop/Git%20Repositories/Group3/Resources/crime_data.ipynb#W0sZmlsZQ%3D%3D?line=3'>4</a>\u001b[0m \u001b[39mfrom\u001b[39;00m \u001b[39mapi_keys\u001b[39;00m \u001b[39mimport\u001b[39;00m geoapify_key\n\u001b[1;32m      <a href='vscode-notebook-cell:/Users/danielacastellon/Desktop/Git%20Repositories/Group3/Resources/crime_data.ipynb#W0sZmlsZQ%3D%3D?line=5'>6</a>\u001b[0m hate_crime_df \u001b[39m=\u001b[39m pd\u001b[39m.\u001b[39mread_csv(\u001b[39m'\u001b[39m\u001b[39mhate_crime.csv\u001b[39m\u001b[39m'\u001b[39m, low_memory\u001b[39m=\u001b[39m\u001b[39mFalse\u001b[39;00m)\n\u001b[1;32m      <a href='vscode-notebook-cell:/Users/danielacastellon/Desktop/Git%20Repositories/Group3/Resources/crime_data.ipynb#W0sZmlsZQ%3D%3D?line=6'>7</a>\u001b[0m hate_crime_df\u001b[39m.\u001b[39mhead()\n",
      "\u001b[0;31mModuleNotFoundError\u001b[0m: No module named 'api_keys'"
     ]
    }
   ],
   "source": [
    "import pandas as pd\n",
    "import numpy as np\n",
    "import matplotlib.pyplot as plt\n",
    "from api_keys import geoapify_key\n",
    "\n",
    "hate_crime_df = pd.read_csv('hate_crime.csv', low_memory=False)\n",
    "hate_crime_df.head()"
   ]
  },
  {
   "cell_type": "code",
   "execution_count": 3,
   "id": "e1e183ba",
   "metadata": {},
   "outputs": [
    {
     "data": {
      "text/plain": [
       "INCIDENT_ID                 201403\n",
       "DATA_YEAR                   201403\n",
       "PUB_AGENCY_NAME             201403\n",
       "AGENCY_TYPE_NAME            201403\n",
       "STATE_ABBR                  201403\n",
       "STATE_NAME                  201403\n",
       "DIVISION_NAME               201403\n",
       "REGION_NAME                 201403\n",
       "POPULATION_GROUP_DESC       201403\n",
       "INCIDENT_DATE               201403\n",
       "TOTAL_OFFENDER_COUNT        201403\n",
       "OFFENDER_RACE               201384\n",
       "OFFENDER_ETHNICITY           18150\n",
       "VICTIM_COUNT                201403\n",
       "OFFENSE_NAME                201403\n",
       "TOTAL_INDIVIDUAL_VICTIMS    199797\n",
       "LOCATION_NAME               201403\n",
       "BIAS_DESC                   201403\n",
       "VICTIM_TYPES                201403\n",
       "MULTIPLE_OFFENSE            201403\n",
       "MULTIPLE_BIAS               201403\n",
       "dtype: int64"
      ]
     },
     "execution_count": 3,
     "metadata": {},
     "output_type": "execute_result"
    }
   ],
   "source": [
    "# dropping columns\n",
    "clean_crime = hate_crime_df.drop(columns= [\"ORI\", \"PUB_AGENCY_UNIT\", \"JUVENILE_VICTIM_COUNT\",\"ADULT_VICTIM_COUNT\", \"ADULT_OFFENDER_COUNT\", \"JUVENILE_OFFENDER_COUNT\", \"POPULATION_GROUP_CODE\"])\n",
    "clean_crime.count()\n",
    "# clean_crime.dropna()"
   ]
  }
 ],
 "metadata": {
  "kernelspec": {
   "display_name": "base",
   "language": "python",
   "name": "python3"
  },
  "language_info": {
   "codemirror_mode": {
    "name": "ipython",
    "version": 3
   },
   "file_extension": ".py",
   "mimetype": "text/x-python",
   "name": "python",
   "nbconvert_exporter": "python",
   "pygments_lexer": "ipython3",
   "version": "3.9.12"
  },
  "vscode": {
   "interpreter": {
    "hash": "6a00427395dc9113929f7b766d6bc1fd0935f9df126b09ba5b7202b0db8113df"
   }
  }
 },
 "nbformat": 4,
 "nbformat_minor": 5
}
